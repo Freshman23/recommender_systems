{
 "cells": [
  {
   "cell_type": "code",
   "execution_count": 1,
   "metadata": {
    "colab": {},
    "colab_type": "code",
    "id": "rgIzW-DSC8Yi"
   },
   "outputs": [],
   "source": [
    "import pandas as pd\n",
    "import numpy as np\n",
    "import matplotlib.pyplot as plt\n",
    "%matplotlib inline\n",
    "\n",
    "# Для работы с матрицами\n",
    "from scipy.sparse import csr_matrix, coo_matrix\n",
    "\n",
    "# Детерминированные алгоритмы\n",
    "from implicit.nearest_neighbours import ItemItemRecommender, CosineRecommender, TFIDFRecommender, BM25Recommender\n",
    "\n",
    "# Метрики\n",
    "from implicit.evaluation import train_test_split\n",
    "from implicit.evaluation import precision_at_k, mean_average_precision_at_k, AUC_at_k, ndcg_at_k"
   ]
  },
  {
   "cell_type": "code",
   "execution_count": 2,
   "metadata": {
    "colab": {},
    "colab_type": "code",
    "id": "9qFkcgyrC8Yt",
    "outputId": "24a33bf1-942a-4b18-c54a-a7500c8f8712"
   },
   "outputs": [
    {
     "data": {
      "text/html": [
       "<div>\n",
       "<style scoped>\n",
       "    .dataframe tbody tr th:only-of-type {\n",
       "        vertical-align: middle;\n",
       "    }\n",
       "\n",
       "    .dataframe tbody tr th {\n",
       "        vertical-align: top;\n",
       "    }\n",
       "\n",
       "    .dataframe thead th {\n",
       "        text-align: right;\n",
       "    }\n",
       "</style>\n",
       "<table border=\"1\" class=\"dataframe\">\n",
       "  <thead>\n",
       "    <tr style=\"text-align: right;\">\n",
       "      <th></th>\n",
       "      <th>user_id</th>\n",
       "      <th>basket_id</th>\n",
       "      <th>day</th>\n",
       "      <th>item_id</th>\n",
       "      <th>quantity</th>\n",
       "      <th>sales_value</th>\n",
       "      <th>store_id</th>\n",
       "      <th>retail_disc</th>\n",
       "      <th>trans_time</th>\n",
       "      <th>week_no</th>\n",
       "      <th>coupon_disc</th>\n",
       "      <th>coupon_match_disc</th>\n",
       "    </tr>\n",
       "  </thead>\n",
       "  <tbody>\n",
       "    <tr>\n",
       "      <th>0</th>\n",
       "      <td>2375</td>\n",
       "      <td>26984851472</td>\n",
       "      <td>1</td>\n",
       "      <td>1004906</td>\n",
       "      <td>1</td>\n",
       "      <td>1.39</td>\n",
       "      <td>364</td>\n",
       "      <td>-0.6</td>\n",
       "      <td>1631</td>\n",
       "      <td>1</td>\n",
       "      <td>0.0</td>\n",
       "      <td>0.0</td>\n",
       "    </tr>\n",
       "    <tr>\n",
       "      <th>1</th>\n",
       "      <td>2375</td>\n",
       "      <td>26984851472</td>\n",
       "      <td>1</td>\n",
       "      <td>1033142</td>\n",
       "      <td>1</td>\n",
       "      <td>0.82</td>\n",
       "      <td>364</td>\n",
       "      <td>0.0</td>\n",
       "      <td>1631</td>\n",
       "      <td>1</td>\n",
       "      <td>0.0</td>\n",
       "      <td>0.0</td>\n",
       "    </tr>\n",
       "  </tbody>\n",
       "</table>\n",
       "</div>"
      ],
      "text/plain": [
       "   user_id    basket_id  day  item_id  quantity  sales_value  store_id  \\\n",
       "0     2375  26984851472    1  1004906         1         1.39       364   \n",
       "1     2375  26984851472    1  1033142         1         0.82       364   \n",
       "\n",
       "   retail_disc  trans_time  week_no  coupon_disc  coupon_match_disc  \n",
       "0         -0.6        1631        1          0.0                0.0  \n",
       "1          0.0        1631        1          0.0                0.0  "
      ]
     },
     "execution_count": 2,
     "metadata": {},
     "output_type": "execute_result"
    }
   ],
   "source": [
    "data = pd.read_csv('data/retail_train.csv')\n",
    "data.head(2)"
   ]
  },
  {
   "cell_type": "code",
   "execution_count": 3,
   "metadata": {
    "colab": {},
    "colab_type": "code",
    "id": "epcBZlgJC8Y0"
   },
   "outputs": [],
   "source": [
    "test_size_weeks = 3\n",
    "\n",
    "data_train = data[data['week_no'] < data['week_no'].max() - test_size_weeks]\n",
    "data_test = data[data['week_no'] >= data['week_no'].max() - test_size_weeks]"
   ]
  },
  {
   "cell_type": "markdown",
   "metadata": {
    "colab_type": "text",
    "id": "zlUUzLFeC8Y4"
   },
   "source": [
    "### Задание 1. Weighted Random Recommendation\n",
    "\n",
    "Напишите код для случайных рекоммендаций, в которых вероятность рекомендовать товар прямо пропорциональна логарифму продаж\n",
    "- Можно сэмплировать товары случайно, но пропорционально какому-либо весу\n",
    "- Например, прямопропорционально популярности. Вес = log(sales_sum товара)"
   ]
  },
  {
   "cell_type": "markdown",
   "metadata": {},
   "source": [
    "В этом же задании выполним пункт из следующего:\n",
    "- Попробуйте улучшить бейзлайны, считая случаный на топ-5000 товаров"
   ]
  },
  {
   "cell_type": "code",
   "execution_count": 4,
   "metadata": {
    "colab": {},
    "colab_type": "code",
    "id": "brMuCHolC8Y4"
   },
   "outputs": [],
   "source": [
    "def get_weights(data, at_k=None):\n",
    "    \n",
    "    items_weights = data.groupby('item_id')['sales_value'].sum().reset_index()\n",
    "    items_weights['sales_value'] = np.log(items_weights['sales_value'] + 1.0000001)\n",
    "    items_weights.sort_values('sales_value', ascending=False, inplace=True)\n",
    "    \n",
    "    if at_k:\n",
    "        items_weights = items_weights[:at_k]\n",
    "    \n",
    "    items_weights['sales_value'] = items_weights['sales_value'] / items_weights['sales_value'].sum()\n",
    "    items_weights.columns = ['item_id', 'weight']\n",
    "    \n",
    "    return items_weights\n",
    "\n",
    "\n",
    "def weighted_random_recommendation(items_weights, n=5):\n",
    "    \n",
    "    recs = np.random.choice(items_weights['item_id'], size=n, replace=False, p=items_weights['weight'])\n",
    "    \n",
    "    return recs.tolist()"
   ]
  },
  {
   "cell_type": "code",
   "execution_count": 5,
   "metadata": {},
   "outputs": [],
   "source": [
    "def precision(recommended_list, bought_list):\n",
    "    \n",
    "    bought_list = np.array(bought_list)\n",
    "    recommended_list = np.array(recommended_list)\n",
    "    \n",
    "    flags = np.isin(bought_list, recommended_list)\n",
    "    \n",
    "    return flags.sum() / len(recommended_list)"
   ]
  },
  {
   "cell_type": "code",
   "execution_count": 6,
   "metadata": {},
   "outputs": [],
   "source": [
    "result = data_test.groupby('user_id')['item_id'].unique().reset_index()\n",
    "result.columns=['user_id', 'actual']"
   ]
  },
  {
   "cell_type": "code",
   "execution_count": 7,
   "metadata": {
    "colab": {},
    "colab_type": "code",
    "id": "nK_AS3tmC8Y7"
   },
   "outputs": [
    {
     "name": "stdout",
     "output_type": "stream",
     "text": [
      "Wall time: 4.76 s\n"
     ]
    }
   ],
   "source": [
    "%%time\n",
    "\n",
    "items_weights = get_weights(data_train)\n",
    "items_weights_5000 = get_weights(data_train, at_k=5000)\n",
    "items_weights_1000 = get_weights(data_train, at_k=1000)\n",
    "items_weights_100 = get_weights(data_train, at_k=100)\n",
    "\n",
    "result['weighted_rand_rec'] = result['user_id'].apply(lambda x: weighted_random_recommendation(items_weights, n=5))\n",
    "result['weighted_rand_rec_5000'] = result['user_id'].apply(lambda x: weighted_random_recommendation(items_weights_5000, n=5))\n",
    "result['weighted_rand_rec_1000'] = result['user_id'].apply(lambda x: weighted_random_recommendation(items_weights_1000, n=5))\n",
    "result['weighted_rand_rec_100'] = result['user_id'].apply(lambda x: weighted_random_recommendation(items_weights_100, n=5))"
   ]
  },
  {
   "cell_type": "code",
   "execution_count": 8,
   "metadata": {
    "scrolled": true
   },
   "outputs": [
    {
     "data": {
      "text/html": [
       "<div>\n",
       "<style scoped>\n",
       "    .dataframe tbody tr th:only-of-type {\n",
       "        vertical-align: middle;\n",
       "    }\n",
       "\n",
       "    .dataframe tbody tr th {\n",
       "        vertical-align: top;\n",
       "    }\n",
       "\n",
       "    .dataframe thead th {\n",
       "        text-align: right;\n",
       "    }\n",
       "</style>\n",
       "<table border=\"1\" class=\"dataframe\">\n",
       "  <thead>\n",
       "    <tr style=\"text-align: right;\">\n",
       "      <th></th>\n",
       "      <th>user_id</th>\n",
       "      <th>actual</th>\n",
       "      <th>weighted_rand_rec</th>\n",
       "      <th>weighted_rand_rec_5000</th>\n",
       "      <th>weighted_rand_rec_1000</th>\n",
       "      <th>weighted_rand_rec_100</th>\n",
       "    </tr>\n",
       "  </thead>\n",
       "  <tbody>\n",
       "    <tr>\n",
       "      <th>0</th>\n",
       "      <td>1</td>\n",
       "      <td>[821867, 834484, 856942, 865456, 889248, 90795...</td>\n",
       "      <td>[1934138, 5693713, 3833740, 828507, 1614511]</td>\n",
       "      <td>[841016, 12324841, 1125943, 991999, 1075786]</td>\n",
       "      <td>[1065593, 926905, 1138189, 866211, 1036495]</td>\n",
       "      <td>[840361, 1000753, 6534166, 878996, 893018]</td>\n",
       "    </tr>\n",
       "    <tr>\n",
       "      <th>1</th>\n",
       "      <td>3</td>\n",
       "      <td>[835476, 851057, 872021, 878302, 879948, 90963...</td>\n",
       "      <td>[1106872, 1040486, 9420077, 1044637, 100505]</td>\n",
       "      <td>[917427, 1122547, 6463742, 880427, 1109615]</td>\n",
       "      <td>[1092303, 1013167, 882308, 854852, 1055403]</td>\n",
       "      <td>[1082185, 962229, 961554, 6533765, 995965]</td>\n",
       "    </tr>\n",
       "    <tr>\n",
       "      <th>2</th>\n",
       "      <td>6</td>\n",
       "      <td>[920308, 926804, 946489, 1006718, 1017061, 107...</td>\n",
       "      <td>[6555314, 939323, 12172294, 6979518, 709249]</td>\n",
       "      <td>[5570882, 12810422, 948509, 1127624, 899459]</td>\n",
       "      <td>[1037894, 1057260, 940766, 845307, 9553193]</td>\n",
       "      <td>[893018, 993638, 12810393, 5569845, 1037840]</td>\n",
       "    </tr>\n",
       "    <tr>\n",
       "      <th>3</th>\n",
       "      <td>7</td>\n",
       "      <td>[840386, 889774, 898068, 909714, 929067, 95347...</td>\n",
       "      <td>[988791, 17169697, 831808, 1880808, 1095557]</td>\n",
       "      <td>[872382, 821741, 895166, 879528, 1116096]</td>\n",
       "      <td>[7155012, 12582517, 5568758, 1029688, 952163]</td>\n",
       "      <td>[874972, 880150, 878996, 854405, 965267]</td>\n",
       "    </tr>\n",
       "    <tr>\n",
       "      <th>4</th>\n",
       "      <td>8</td>\n",
       "      <td>[835098, 872137, 910439, 924610, 992977, 10412...</td>\n",
       "      <td>[990936, 1734922, 921870, 948826, 13007710]</td>\n",
       "      <td>[852014, 1128240, 884518, 10341234, 892314]</td>\n",
       "      <td>[898068, 1034686, 918046, 6534030, 1052912]</td>\n",
       "      <td>[6534178, 12810393, 849202, 844179, 993638]</td>\n",
       "    </tr>\n",
       "  </tbody>\n",
       "</table>\n",
       "</div>"
      ],
      "text/plain": [
       "   user_id                                             actual  \\\n",
       "0        1  [821867, 834484, 856942, 865456, 889248, 90795...   \n",
       "1        3  [835476, 851057, 872021, 878302, 879948, 90963...   \n",
       "2        6  [920308, 926804, 946489, 1006718, 1017061, 107...   \n",
       "3        7  [840386, 889774, 898068, 909714, 929067, 95347...   \n",
       "4        8  [835098, 872137, 910439, 924610, 992977, 10412...   \n",
       "\n",
       "                              weighted_rand_rec  \\\n",
       "0  [1934138, 5693713, 3833740, 828507, 1614511]   \n",
       "1  [1106872, 1040486, 9420077, 1044637, 100505]   \n",
       "2  [6555314, 939323, 12172294, 6979518, 709249]   \n",
       "3  [988791, 17169697, 831808, 1880808, 1095557]   \n",
       "4   [990936, 1734922, 921870, 948826, 13007710]   \n",
       "\n",
       "                         weighted_rand_rec_5000  \\\n",
       "0  [841016, 12324841, 1125943, 991999, 1075786]   \n",
       "1   [917427, 1122547, 6463742, 880427, 1109615]   \n",
       "2  [5570882, 12810422, 948509, 1127624, 899459]   \n",
       "3     [872382, 821741, 895166, 879528, 1116096]   \n",
       "4   [852014, 1128240, 884518, 10341234, 892314]   \n",
       "\n",
       "                          weighted_rand_rec_1000  \\\n",
       "0    [1065593, 926905, 1138189, 866211, 1036495]   \n",
       "1    [1092303, 1013167, 882308, 854852, 1055403]   \n",
       "2    [1037894, 1057260, 940766, 845307, 9553193]   \n",
       "3  [7155012, 12582517, 5568758, 1029688, 952163]   \n",
       "4    [898068, 1034686, 918046, 6534030, 1052912]   \n",
       "\n",
       "                          weighted_rand_rec_100  \n",
       "0    [840361, 1000753, 6534166, 878996, 893018]  \n",
       "1    [1082185, 962229, 961554, 6533765, 995965]  \n",
       "2  [893018, 993638, 12810393, 5569845, 1037840]  \n",
       "3      [874972, 880150, 878996, 854405, 965267]  \n",
       "4   [6534178, 12810393, 849202, 844179, 993638]  "
      ]
     },
     "execution_count": 8,
     "metadata": {},
     "output_type": "execute_result"
    }
   ],
   "source": [
    "result.head(5)"
   ]
  },
  {
   "cell_type": "code",
   "execution_count": 9,
   "metadata": {},
   "outputs": [
    {
     "name": "stdout",
     "output_type": "stream",
     "text": [
      "1.0 : actual\n",
      "0.0014 : weighted_rand_rec\n",
      "0.0071 : weighted_rand_rec_5000\n",
      "0.015 : weighted_rand_rec_1000\n",
      "0.0523 : weighted_rand_rec_100\n"
     ]
    }
   ],
   "source": [
    "for name_col in result.columns[1:]:\n",
    "    print(f\"{round(result.apply(lambda row: precision(row[name_col], row['actual']), axis=1).mean(), 4)} : {name_col}\")"
   ]
  },
  {
   "cell_type": "markdown",
   "metadata": {
    "colab_type": "text",
    "id": "igDU0j1cC8ZH"
   },
   "source": [
    "## Задание 2. Улучшение бейзлайнов и ItemItem\n",
    "\n",
    "- Попробуйте улучшить бейзлайны, считая случаный на топ-5000 товаров\n",
    "- Попробуйте улучшить разные варианты ItemItemRecommender, выбирая число соседей $K$."
   ]
  },
  {
   "cell_type": "markdown",
   "metadata": {
    "colab": {},
    "colab_type": "code",
    "id": "zYBR3cMPC8ZH"
   },
   "source": [
    "Первый пункт задания выполнен в предыдущем, со второй частью, к сожалению, не успел разобраться."
   ]
  }
 ],
 "metadata": {
  "colab": {
   "name": "hw_webinar_2.ipynb",
   "provenance": []
  },
  "kernelspec": {
   "display_name": "Python 3",
   "language": "python",
   "name": "python3"
  },
  "language_info": {
   "codemirror_mode": {
    "name": "ipython",
    "version": 3
   },
   "file_extension": ".py",
   "mimetype": "text/x-python",
   "name": "python",
   "nbconvert_exporter": "python",
   "pygments_lexer": "ipython3",
   "version": "3.8.8"
  }
 },
 "nbformat": 4,
 "nbformat_minor": 1
}
